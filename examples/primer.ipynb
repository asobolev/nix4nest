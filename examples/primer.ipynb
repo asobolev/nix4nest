{
 "metadata": {
  "name": ""
 },
 "nbformat": 3,
 "nbformat_minor": 0,
 "worksheets": [
  {
   "cells": [
    {
     "cell_type": "heading",
     "level": 3,
     "metadata": {},
     "source": [
      "Setup network (3 -> 1)"
     ]
    },
    {
     "cell_type": "code",
     "collapsed": false,
     "input": [
      "import nest\n",
      "\n",
      "nest.ResetKernel()\n",
      "\n",
      "# three input neurons\n",
      "input_neurons = [nest.Create(\"iaf_neuron\")[0] for x in range(3)]\n",
      "\n",
      "# single output neuron\n",
      "output_neuron = nest.Create(\"iaf_neuron\")\n",
      "#nest.Connect(input_neurons, output_neuron, 'all_to_all')\n",
      "for node in input_neurons:\n",
      "    nest.Connect([node], output_neuron, syn_spec={'weight': 355.0, 'model': 'static_synapse'})\n",
      "\n",
      "# inject current / noise to some input neurons\n",
      "dc = nest.Create(\"dc_generator\", 1)\n",
      "nest.SetStatus(dc, {'amplitude': 30.0, 'start': 50., 'stop': 100.})\n",
      "\n",
      "nest.Connect(dc, [input_neurons[0]], syn_spec={'weight': 150.0, 'model': 'static_synapse'})\n",
      "\n",
      "# record voltage of ouput neuron\n",
      "voltmeter = nest.Create('multimeter', params={'record_from': ['V_m'], 'withtime': True})\n",
      "nest.Connect(voltmeter, output_neuron)\n",
      "\n",
      "# detect spikes from output neuron\n",
      "detector = nest.Create('spike_detector')\n",
      "nest.Connect(output_neuron, detector, 'all_to_all')\n",
      "\n",
      "# simulation\n",
      "nest.Simulate(200)"
     ],
     "language": "python",
     "metadata": {},
     "outputs": [],
     "prompt_number": 1
    },
    {
     "cell_type": "heading",
     "level": 3,
     "metadata": {},
     "source": [
      "Save simulation results"
     ]
    },
    {
     "cell_type": "code",
     "collapsed": false,
     "input": [
      "import nix\n",
      "import nix4nest\n",
      "\n",
      "f = nix.File.open(\"/tmp/simulation.h5\", nix.FileMode.Overwrite)\n",
      "block = f.create_nest_block(\"demo\", \"simulation\")\n",
      "\n",
      "# save neurons / injection devices\n",
      "for node_id in input_neurons + list(output_neuron) + list(dc):\n",
      "    # give output neuron a special name\n",
      "    name = 'output' if node_id == output_neuron[0] else None\n",
      "    \n",
      "    block.dump_node(node_id, name)\n",
      "    \n",
      "# save connections\n",
      "for source, target in [(i, output_neuron[0]) for i in input_neurons]:\n",
      "    block.dump_connection(source, target)\n",
      "\n",
      "# save recorded voltage\n",
      "signal = block.dump_multimeter(voltmeter[0], 'V_m')\n",
      "\n",
      "# save detected spikes\n",
      "spiketrains = block.dump_spike_detector(detector[0])\n",
      "\n",
      "f.close()"
     ],
     "language": "python",
     "metadata": {},
     "outputs": [],
     "prompt_number": 2
    },
    {
     "cell_type": "heading",
     "level": 3,
     "metadata": {},
     "source": [
      "Analyze simulation"
     ]
    },
    {
     "cell_type": "code",
     "collapsed": false,
     "input": [
      "from plotting import multiple_time_series\n",
      "from datetime import datetime\n",
      "import numpy as np\n",
      "\n",
      "f = nix.File.open(\"/tmp/simulation.h5\", nix.FileMode.ReadOnly)\n",
      "block = f.blocks[0]\n",
      "\n",
      "# get all neurons\n",
      "neurons = filter(lambda x: x.type == 'neuron', block.nodes)\n",
      "\n",
      "# get output neuron\n",
      "output_neuron = filter(lambda x: x.name == 'output', block.nodes)[0]\n",
      "\n",
      "# explore neuron properties\n",
      "output_neuron.properties['model']    # 'iaf_neuron'\n",
      "output_neuron.properties['V_th']     # -55.0 (threshold)\n",
      "output_neuron.properties['V_reset']  # -70.0 (reset)\n",
      "output_neuron.created_at.strftime(\"%Y-%m-%d %H:%M\")\n",
      "\n",
      "# get all signals\n",
      "signals = filter(lambda x: x.type == 'neuron', block.signals)\n",
      "\n",
      "# get signal from particular neuron\n",
      "voltage = filter(lambda x: x.source and x.source.name == 'output', block.signals)[0]\n",
      "\n",
      "# plot selected signal with stimulus\n",
      "dc = filter(lambda x: x.type == 'stimulator', block.nodes)[0]\n",
      "current = np.zeros(voltage.data.size)\n",
      "current[dc.properties['start']:dc.properties['stop']] = dc.properties['amplitude']\n",
      "\n",
      "times = np.arange(0, voltage.data.size, voltage.sampling.sampling_interval)\n",
      "events = np.array([voltage.data[:], current])\n",
      "labels = ('neuron, %s' % voltage.unit, 'current')\n",
      "\n",
      "fig = multiple_time_series(events, labels, times)\n",
      "\n",
      "\n",
      "\n",
      "# get all spiketrains\n",
      "\n",
      "# get spiketrains from a certain neuron\n",
      "\n",
      "# plot selected spiketrain with signal\n",
      "\n",
      "\n",
      "# get all connections\n",
      "\n",
      "# plot synaptic weights\n",
      "\n",
      "#f.close()"
     ],
     "language": "python",
     "metadata": {},
     "outputs": [
      {
       "metadata": {},
       "output_type": "display_data",
       "png": "[encoded data removed]",
       "text": [
        "<matplotlib.figure.Figure at 0x7fd0bc1a1cd0>"
       ]
      }
     ],
     "prompt_number": 3
    }
   ],
   "metadata": {}
  }
 ]
}