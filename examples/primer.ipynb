{
 "metadata": {
  "name": ""
 },
 "nbformat": 3,
 "nbformat_minor": 0,
 "worksheets": [
  {
   "cells": [
    {
     "cell_type": "heading",
     "level": 3,
     "metadata": {},
     "source": [
      "Setup network (3 -> 1)"
     ]
    },
    {
     "cell_type": "code",
     "collapsed": false,
     "input": [
      "import nest\n",
      "\n",
      "nest.ResetKernel()\n",
      "\n",
      "# three input neurons\n",
      "input_neurons = [nest.Create(\"iaf_neuron\")[0] for x in range(3)]\n",
      "\n",
      "# single output neuron\n",
      "output_neuron = nest.Create(\"iaf_neuron\")\n",
      "nest.Connect(input_neurons, output_neuron, 'all_to_all')\n",
      "\n",
      "# inject current / noise to some input neurons\n",
      "dc = nest.Create(\"dc_generator\", 1)\n",
      "nest.SetStatus(dc, {'amplitude': 1.5, 'start': 50., 'stop': 100.})\n",
      "\n",
      "nest.Connect(dc, [input_neurons[0]], syn_spec={'weight': 5.0, 'model': 'static_synapse'})\n",
      "\n",
      "# record voltage of ouput neuron\n",
      "voltmeter = nest.Create('multimeter', params={'record_from': ['V_m'], 'withtime': True})\n",
      "nest.Connect(voltmeter, output_neuron)\n",
      "\n",
      "# detect spikes from output neuron\n",
      "detector = nest.Create('spike_detector')\n",
      "nest.Connect(output_neuron, detector, 'all_to_all')\n",
      "\n",
      "# simulation\n",
      "nest.Simulate(200)"
     ],
     "language": "python",
     "metadata": {},
     "outputs": [],
     "prompt_number": 1
    },
    {
     "cell_type": "heading",
     "level": 3,
     "metadata": {},
     "source": [
      "Save simulation results"
     ]
    },
    {
     "cell_type": "code",
     "collapsed": false,
     "input": [
      "import nix\n",
      "import nix4nest\n",
      "\n",
      "f = nix.File.open(\"/tmp/simulation.h5\", nix.FileMode.Overwrite)\n",
      "block = f.create_nest_block(\"demo\", \"simulation\")\n",
      "\n",
      "# save neurons / injection devices\n",
      "for node_id in input_neurons + list(output_neuron) + list(dc):\n",
      "    # give output neuron a special name\n",
      "    name = 'output' if node == output_neuron[0] else None\n",
      "    \n",
      "    block.dump_node(node_id, name)\n",
      "    \n",
      "# save connections\n",
      "for source, target in [(i, output_neuron[0]) for i in input_neurons]:\n",
      "    block.dump_connection(source, target)\n",
      "\n",
      "# save recorded voltage\n",
      "signal = block.dump_multimeter(voltmeter[0], 'V_m')\n",
      "\n",
      "# save detected spikes\n",
      "spiketrains = block.dump_spike_detector(detector[0])\n",
      "\n",
      "f.close()"
     ],
     "language": "python",
     "metadata": {},
     "outputs": [
      {
       "ename": "AssertionError",
       "evalue": "",
       "output_type": "pyerr",
       "traceback": [
        "\u001b[0;31m---------------------------------------------------------------------------\u001b[0m\n\u001b[0;31mAssertionError\u001b[0m                            Traceback (most recent call last)",
        "\u001b[0;32m<ipython-input-2-e8da91f09cee>\u001b[0m in \u001b[0;36m<module>\u001b[0;34m()\u001b[0m\n\u001b[1;32m     17\u001b[0m \u001b[0;34m\u001b[0m\u001b[0m\n\u001b[1;32m     18\u001b[0m \u001b[0;31m# save recorded voltage\u001b[0m\u001b[0;34m\u001b[0m\u001b[0;34m\u001b[0m\u001b[0m\n\u001b[0;32m---> 19\u001b[0;31m \u001b[0msignal\u001b[0m \u001b[0;34m=\u001b[0m \u001b[0mblock\u001b[0m\u001b[0;34m.\u001b[0m\u001b[0mdump_multimeter\u001b[0m\u001b[0;34m(\u001b[0m\u001b[0mvoltmeter\u001b[0m\u001b[0;34m,\u001b[0m \u001b[0;34m'V_m'\u001b[0m\u001b[0;34m)\u001b[0m\u001b[0;34m\u001b[0m\u001b[0m\n\u001b[0m\u001b[1;32m     20\u001b[0m \u001b[0;34m\u001b[0m\u001b[0m\n\u001b[1;32m     21\u001b[0m \u001b[0;31m# save detected spikes\u001b[0m\u001b[0;34m\u001b[0m\u001b[0;34m\u001b[0m\u001b[0m\n",
        "\u001b[0;32m/home/andrey/projects/asobolev/nix4nest/nix4nest/nix/block.pyc\u001b[0m in \u001b[0;36mdump_multimeter\u001b[0;34m(self, nest_id, recordable, name)\u001b[0m\n\u001b[1;32m     68\u001b[0m         \u001b[0;34m:\u001b[0m\u001b[0;32mreturn\u001b[0m\u001b[0;34m:\u001b[0m            \u001b[0man\u001b[0m \u001b[0minstance\u001b[0m \u001b[0mof\u001b[0m \u001b[0;34m<\u001b[0m\u001b[0mIConnection\u001b[0m\u001b[0;34m>\u001b[0m \u001b[0mobject\u001b[0m\u001b[0;34m.\u001b[0m\u001b[0;34m\u001b[0m\u001b[0m\n\u001b[1;32m     69\u001b[0m         \"\"\"\n\u001b[0;32m---> 70\u001b[0;31m         \u001b[0;32mreturn\u001b[0m \u001b[0mNestFactory\u001b[0m\u001b[0;34m.\u001b[0m\u001b[0mdump_multimeter\u001b[0m\u001b[0;34m(\u001b[0m\u001b[0mself\u001b[0m\u001b[0;34m,\u001b[0m \u001b[0mnest_id\u001b[0m\u001b[0;34m,\u001b[0m \u001b[0mrecordable\u001b[0m\u001b[0;34m,\u001b[0m \u001b[0mname\u001b[0m\u001b[0;34m)\u001b[0m\u001b[0;34m\u001b[0m\u001b[0m\n\u001b[0m",
        "\u001b[0;32m/home/andrey/projects/asobolev/nix4nest/nix4nest/nest_api/nestfactory.pyc\u001b[0m in \u001b[0;36mdump_multimeter\u001b[0;34m(where, nest_id, recordable, name)\u001b[0m\n\u001b[1;32m     65\u001b[0m         \u001b[0;34m:\u001b[0m\u001b[0;32mreturn\u001b[0m\u001b[0;34m:\u001b[0m            \u001b[0man\u001b[0m \u001b[0minstance\u001b[0m \u001b[0mof\u001b[0m \u001b[0;34m<\u001b[0m\u001b[0mAnalogSignal\u001b[0m\u001b[0;34m>\u001b[0m \u001b[0mobject\u001b[0m\u001b[0;34m.\u001b[0m\u001b[0;34m\u001b[0m\u001b[0m\n\u001b[1;32m     66\u001b[0m         \"\"\"\n\u001b[0;32m---> 67\u001b[0;31m         \u001b[0;32massert\u001b[0m\u001b[0;34m(\u001b[0m\u001b[0mtype\u001b[0m\u001b[0;34m(\u001b[0m\u001b[0mnest_id\u001b[0m\u001b[0;34m)\u001b[0m \u001b[0;34m==\u001b[0m \u001b[0mint\u001b[0m\u001b[0;34m)\u001b[0m\u001b[0;34m\u001b[0m\u001b[0m\n\u001b[0m\u001b[1;32m     68\u001b[0m \u001b[0;34m\u001b[0m\u001b[0m\n\u001b[1;32m     69\u001b[0m         \u001b[0mmm\u001b[0m \u001b[0;34m=\u001b[0m \u001b[0mNestMultimeter\u001b[0m\u001b[0;34m(\u001b[0m\u001b[0mnest_id\u001b[0m\u001b[0;34m,\u001b[0m \u001b[0mrecordable\u001b[0m\u001b[0;34m)\u001b[0m\u001b[0;34m\u001b[0m\u001b[0m\n",
        "\u001b[0;31mAssertionError\u001b[0m: "
       ]
      }
     ],
     "prompt_number": 2
    },
    {
     "cell_type": "heading",
     "level": 3,
     "metadata": {},
     "source": [
      "Analyse simulation"
     ]
    },
    {
     "cell_type": "code",
     "collapsed": false,
     "input": [
      "from datetime import datetime\n",
      "\n",
      "f = nix.File.open(\"/tmp/simulation.h5\", nix.FileMode.ReadOnly)\n",
      "block = f.blocks[0]\n",
      "\n",
      "# get all neurons\n",
      "neurons = filter(lambda x: x.type == 'neuron', block.nodes)\n",
      "\n",
      "# get output neuron\n",
      "output_neuron = filter(lambda x: x.name == 'output', block.nodes)[0]\n",
      "\n",
      "# explore neuron properties\n",
      "output_neuron.properties['model']    # 'iaf_neuron'\n",
      "output_neuron.properties['V_th']     # -55.0 (threshold)\n",
      "output_neuron.properties['V_reset']  # -70.0 (reset)\n",
      "\n",
      "created_at = output_neuron.properties[0].created_at\n",
      "datetime.fromtimestamp(created_at).strftime(\"%Y-%m-%d %H:%M\")\n",
      "\n",
      "# get all signals\n",
      "signals = filter(lambda x: x.type == 'neuron', block.signals)\n",
      "\n",
      "# get signal from particular neuron\n",
      "voltage = filter(lambda x: x.source.name == 'output', block.signals)[0]\n",
      "\n",
      "# plot selected signal with stimulus\n",
      "dc_stimulator = filter(lambda x: x.type == 'stimulator', all_nodes)[0]\n",
      "\n",
      "# get all spiketrains\n",
      "\n",
      "# get spiketrains from a certain neuron\n",
      "\n",
      "# plot selected spiketrain with signal\n",
      "\n",
      "\n",
      "# get all connections\n",
      "\n",
      "# plot synaptic weights\n",
      "\n",
      "f.close()"
     ],
     "language": "python",
     "metadata": {},
     "outputs": []
    }
   ],
   "metadata": {}
  }
 ]
}