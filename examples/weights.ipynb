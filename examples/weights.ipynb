{
 "metadata": {
  "name": ""
 },
 "nbformat": 3,
 "nbformat_minor": 0,
 "worksheets": [
  {
   "cells": [
    {
     "cell_type": "markdown",
     "metadata": {},
     "source": [
      "### Setup network"
     ]
    },
    {
     "cell_type": "code",
     "collapsed": false,
     "input": [
      "import nest\n",
      "import itertools\n",
      "import numpy as np\n",
      "\n",
      "nest.ResetKernel()\n",
      "\n",
      "new_neuron = lambda x: nest.Create('iaf_neuron')[0]\n",
      "\n",
      "sources = [new_neuron(x) for x in range(5)]  # 5 input neurons\n",
      "targets = [new_neuron(x) for x in range(5)]  # 5 output neurons\n",
      "\n",
      "\n",
      "# connect neurons \"all-to-all\" with \"plastic\" synapses\n",
      "for s, t in itertools.product(sources, targets):\n",
      "    syn_spec = {'weight': 500 * np.random.rand(1)[0], 'model': 'stdp_pl_synapse_hom'}\n",
      "    nest.Connect([s], [t], syn_spec=syn_spec)\n",
      "\n",
      "\n",
      "# inject current / noise to one input neuron\n",
      "dc = nest.Create(\"dc_generator\", 1)\n",
      "nest.SetStatus(dc, {'amplitude': 900.0, 'start': 0., 'stop': 5000.})\n",
      "\n",
      "nest.Connect(dc, [sources[0]], syn_spec={'weight': 150.0, 'model': 'static_synapse'})"
     ],
     "language": "python",
     "metadata": {},
     "outputs": [],
     "prompt_number": 1
    },
    {
     "cell_type": "markdown",
     "metadata": {},
     "source": [
      "### Prepare file and run simulation"
     ]
    },
    {
     "cell_type": "code",
     "collapsed": false,
     "input": [
      "import nix\n",
      "import nix4nest\n",
      "from nix4nest.nix.weightstack import WeightStack\n",
      "\n",
      "\n",
      "# open the file where to dump data\n",
      "f = nix.File.open(\"/tmp/simulation.h5\", nix.FileMode.Overwrite)\n",
      "block = f.create_nest_block(\"demo\", \"simulation\")\n",
      "\n",
      "\n",
      "# create a \"weight stack\" object to dump weights\n",
      "params = {\n",
      "    'where': block,\n",
      "    'name': \"evolution\",\n",
      "    'weights': np.empty((0, len(sources), len(targets))),  # empty before simulation\n",
      "    'sources': sources,\n",
      "    'targets': targets\n",
      "}\n",
      "ws = WeightStack.create_weight_stack(**params)\n",
      "\n",
      "\n",
      "# simulate\n",
      "simulation_time = 5000\n",
      "time_passed = 0\n",
      "step = 1000\n",
      "\n",
      "while time_passed < simulation_time:\n",
      "    # capture actual weights between <sources> and <targets>\n",
      "    snapshot = block.capture_weights(sources, targets)\n",
      "    \n",
      "    # save weights (to file) with weight stack object\n",
      "    ws.append_snapshot([snapshot], time_passed)\n",
      "    \n",
      "    nest.Simulate(step)\n",
      "    time_passed += step\n",
      "    \n",
      "f.close()"
     ],
     "language": "python",
     "metadata": {},
     "outputs": [],
     "prompt_number": 2
    },
    {
     "cell_type": "markdown",
     "metadata": {},
     "source": [
      "### Access weight evolution"
     ]
    },
    {
     "cell_type": "code",
     "collapsed": false,
     "input": [
      "from plotting import weights_multiple\n",
      "\n",
      "f = nix.File.open(\"/tmp/simulation.h5\", nix.FileMode.ReadOnly)\n",
      "ws = f.blocks[0].weightstacks[0]\n",
      "\n",
      "# explore dimensions\n",
      "for dim in ws.dimensions:\n",
      "    print \"Dimension #%d: %s\" % (dim.index, dim.label)"
     ],
     "language": "python",
     "metadata": {},
     "outputs": [
      {
       "output_type": "stream",
       "stream": "stdout",
       "text": [
        "Dimension #1: time\n",
        "Dimension #2: source\n",
        "Dimension #3: target\n"
       ]
      }
     ],
     "prompt_number": 3
    },
    {
     "cell_type": "code",
     "collapsed": false,
     "input": [
      "# understand time dimension\n",
      "times = ws.dimensions[0]\n",
      "\n",
      "print times.ticks\n",
      "print times.unit"
     ],
     "language": "python",
     "metadata": {},
     "outputs": [
      {
       "output_type": "stream",
       "stream": "stdout",
       "text": [
        "(0.0, 1000.0, 2000.0, 3000.0, 4000.0)\n",
        "ms\n"
       ]
      }
     ],
     "prompt_number": 4
    },
    {
     "cell_type": "code",
     "collapsed": false,
     "input": [
      "# compare weights at timepoints 0 ms and 3000 ms\n",
      "i1 = int(np.where(np.array(times.ticks) == 0.0)[0][0])\n",
      "i2 = int(np.where(np.array(times.ticks) == 3000.0)[0][0])\n",
      "\n",
      "fig = weights_multiple([ws.data[i1], ws.data[i2]])"
     ],
     "language": "python",
     "metadata": {},
     "outputs": [
      {
       "metadata": {},
       "output_type": "display_data",
       "png": "[encoded data removed]",
       "text": [
        "<matplotlib.figure.Figure at 0x7f719219b690>"
       ]
      }
     ],
     "prompt_number": 5
    },
    {
     "cell_type": "code",
     "collapsed": false,
     "input": [
      "f.close()"
     ],
     "language": "python",
     "metadata": {},
     "outputs": [],
     "prompt_number": 6
    }
   ],
   "metadata": {}
  }
 ]
}