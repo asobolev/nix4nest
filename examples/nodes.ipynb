{
 "metadata": {
  "name": ""
 },
 "nbformat": 3,
 "nbformat_minor": 0,
 "worksheets": [
  {
   "cells": [
    {
     "cell_type": "heading",
     "level": 3,
     "metadata": {},
     "source": [
      "Setup network nodes"
     ]
    },
    {
     "cell_type": "code",
     "collapsed": false,
     "input": [
      "import nest\n",
      "\n",
      "nest.ResetKernel()\n",
      "\n",
      "neuron = nest.Create(\"iaf_neuron\")[0]\n",
      "\n",
      "current = nest.Create(\"dc_generator\", 1)[0]\n",
      "nest.SetStatus([current], {'amplitude': 1.5, 'start': 50., 'stop': 100.})\n",
      "\n",
      "nest.Connect([current], [neuron], syn_spec={'weight': 5.0, 'model': 'static_synapse'})"
     ],
     "language": "python",
     "metadata": {},
     "outputs": [],
     "prompt_number": 15
    },
    {
     "cell_type": "heading",
     "level": 3,
     "metadata": {},
     "source": [
      "Save nodes and their parameters"
     ]
    },
    {
     "cell_type": "code",
     "collapsed": false,
     "input": [
      "import nix\n",
      "import nix4nest\n",
      "\n",
      "f = nix.File.open(\"/tmp/simulation.h5\", nix.FileMode.Overwrite)\n",
      "block = f.create_nest_block(\"nodes demo\", \"session\")\n",
      "\n",
      "for node in [neuron, current]:\n",
      "    block.create_node(node)\n",
      "\n",
      "f.close()\n",
      "\n",
      "# run simulation here"
     ],
     "language": "python",
     "metadata": {},
     "outputs": [],
     "prompt_number": 16
    },
    {
     "cell_type": "heading",
     "level": 3,
     "metadata": {},
     "source": [
      "Read saved parameters"
     ]
    },
    {
     "cell_type": "code",
     "collapsed": false,
     "input": [
      "f = nix.File.open(\"/tmp/simulation.h5\", nix.FileMode.ReadOnly)\n",
      "all_nodes = f.blocks[0].nodes\n",
      "\n",
      "neuron = filter(lambda x: x.type == 'neuron', all_nodes)[0]\n",
      "current = filter(lambda x: x.type == 'stimulator', all_nodes)[0]"
     ],
     "language": "python",
     "metadata": {},
     "outputs": [],
     "prompt_number": 17
    },
    {
     "cell_type": "code",
     "collapsed": false,
     "input": [
      "for p in neuron.properties:\n",
      "    print \"%s: %s\" % (p.name, p.values[0].value)"
     ],
     "language": "python",
     "metadata": {},
     "outputs": [
      {
       "output_type": "stream",
       "stream": "stdout",
       "text": [
        "model: iaf_neuron\n",
        "frozen: False\n",
        "recordables: (<SLILiteral: V_m>,)\n",
        "tau_m: 10.0\n",
        "t_spike: -1.0\n",
        "thread: 0\n",
        "state: 0\n",
        "V_m: -70.0\n",
        "C_m: 250.0\n",
        "I_e: 0.0\n",
        "V_th: -55.0\n",
        "parent: 0\n",
        "E_L: -70.0\n",
        "archiver_length: 0\n",
        "global_id: 1\n",
        "t_ref: 2.0\n",
        "node_type: neuron\n",
        "vp: 0\n",
        "local: True\n",
        "tau_minus: 20.0\n",
        "local_id: 1\n",
        "tau_syn: 2.0\n",
        "V_reset: -70.0\n",
        "tau_minus_triplet: 110.0\n"
       ]
      }
     ],
     "prompt_number": 18
    },
    {
     "cell_type": "code",
     "collapsed": false,
     "input": [
      "for p in current.properties:\n",
      "    print \"%s: %s\" % (p.name, p.values[0].value)"
     ],
     "language": "python",
     "metadata": {},
     "outputs": [
      {
       "output_type": "stream",
       "stream": "stdout",
       "text": [
        "model: dc_generator\n",
        "frozen: False\n",
        "origin: 0.0\n",
        "start: 50.0\n",
        "thread: 0\n",
        "state: 0\n",
        "amplitude: 1.5\n",
        "parent: 0\n",
        "global_id: 2\n",
        "node_type: stimulator\n",
        "vp: 0\n",
        "stop: 100.0\n",
        "local: True\n",
        "local_id: 2\n"
       ]
      }
     ],
     "prompt_number": 19
    },
    {
     "cell_type": "code",
     "collapsed": false,
     "input": [
      "current.properties[0].created_at"
     ],
     "language": "python",
     "metadata": {},
     "outputs": [
      {
       "metadata": {},
       "output_type": "pyout",
       "prompt_number": 20,
       "text": [
        "1415135906"
       ]
      }
     ],
     "prompt_number": 20
    },
    {
     "cell_type": "code",
     "collapsed": false,
     "input": [
      "f.close()"
     ],
     "language": "python",
     "metadata": {},
     "outputs": [],
     "prompt_number": 21
    }
   ],
   "metadata": {}
  }
 ]
}